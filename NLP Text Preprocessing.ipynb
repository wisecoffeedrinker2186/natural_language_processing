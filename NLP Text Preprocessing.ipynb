{
 "cells": [
  {
   "cell_type": "code",
   "execution_count": 188,
   "id": "d171cc1e",
   "metadata": {},
   "outputs": [
    {
     "name": "stderr",
     "output_type": "stream",
     "text": [
      "[nltk_data] Downloading package punkt to\n",
      "[nltk_data]     C:\\Users\\atind\\AppData\\Roaming\\nltk_data...\n",
      "[nltk_data]   Package punkt is already up-to-date!\n",
      "[nltk_data] Downloading package stopwords to\n",
      "[nltk_data]     C:\\Users\\atind\\AppData\\Roaming\\nltk_data...\n",
      "[nltk_data]   Package stopwords is already up-to-date!\n",
      "[nltk_data] Downloading package wordnet to\n",
      "[nltk_data]     C:\\Users\\atind\\AppData\\Roaming\\nltk_data...\n",
      "[nltk_data]   Package wordnet is already up-to-date!\n",
      "[nltk_data] Downloading package averaged_perceptron_tagger to\n",
      "[nltk_data]     C:\\Users\\atind\\AppData\\Roaming\\nltk_data...\n",
      "[nltk_data]   Package averaged_perceptron_tagger is already up-to-\n",
      "[nltk_data]       date!\n",
      "[nltk_data] Downloading package universal_tagset to\n",
      "[nltk_data]     C:\\Users\\atind\\AppData\\Roaming\\nltk_data...\n",
      "[nltk_data]   Package universal_tagset is already up-to-date!\n",
      "[nltk_data] Downloading package treebank to\n",
      "[nltk_data]     C:\\Users\\atind\\AppData\\Roaming\\nltk_data...\n",
      "[nltk_data]   Package treebank is already up-to-date!\n"
     ]
    }
   ],
   "source": [
    "import re\n",
    "import nltk\n",
    "nltk.download('punkt')\n",
    "nltk.download('stopwords')\n",
    "nltk.download('wordnet')\n",
    "nltk.download('averaged_perceptron_tagger')\n",
    "nltk.download('universal_tagset')\n",
    "nltk.download('treebank')\n",
    "from nltk.corpus import stopwords,treebank\n",
    "from nltk.stem import *\n",
    "from nltk.tag import pos_tag"
   ]
  },
  {
   "cell_type": "code",
   "execution_count": 189,
   "id": "a76c26ae",
   "metadata": {},
   "outputs": [],
   "source": [
    "text = '''\n",
    "Coffee is a beloved beverage enjoyed worldwide for its rich aroma, comforting warmth, and invigorating taste.\n",
    "Derived from the roasted seeds of the Coffea plant, coffee has become an integral part of countless cultures, providing a delightful moment of indulgence and a social connection.\n",
    "Whether sipped as a morning ritual to kickstart the day or savored during leisurely breaks, its energizing effects and distinct flavors cater to a diverse array of preferences.\n",
    "Beyond its stimulating qualities, coffee has also cultivated a sense of community, often serving as a gathering point for friends, colleagues, and strangers alike.\n",
    "Its versatility, from the classic black brew to the myriad of modern concoctions, continues to captivate and inspire coffee enthusiasts, making it a cherished companion in our daily lives.\n",
    "'''"
   ]
  },
  {
   "cell_type": "code",
   "execution_count": 190,
   "id": "45eac03d",
   "metadata": {},
   "outputs": [
    {
     "data": {
      "text/plain": [
       "'\\ncoffee is a beloved beverage enjoyed worldwide for its rich aroma, comforting warmth, and invigorating taste.\\nderived from the roasted seeds of the coffea plant, coffee has become an integral part of countless cultures, providing a delightful moment of indulgence and a social connection.\\nwhether sipped as a morning ritual to kickstart the day or savored during leisurely breaks, its energizing effects and distinct flavors cater to a diverse array of preferences.\\nbeyond its stimulating qualities, coffee has also cultivated a sense of community, often serving as a gathering point for friends, colleagues, and strangers alike.\\nits versatility, from the classic black brew to the myriad of modern concoctions, continues to captivate and inspire coffee enthusiasts, making it a cherished companion in our daily lives.\\n'"
      ]
     },
     "execution_count": 190,
     "metadata": {},
     "output_type": "execute_result"
    }
   ],
   "source": [
    "lower_text = text.lower()\n",
    "lower_text"
   ]
  },
  {
   "cell_type": "markdown",
   "id": "8467e649",
   "metadata": {},
   "source": [
    "#### Sentence tokenization"
   ]
  },
  {
   "cell_type": "code",
   "execution_count": 191,
   "id": "10051de1",
   "metadata": {},
   "outputs": [
    {
     "data": {
      "text/plain": [
       "['\\ncoffee is a beloved beverage enjoyed worldwide for its rich aroma, comforting warmth, and invigorating taste.',\n",
       " 'derived from the roasted seeds of the coffea plant, coffee has become an integral part of countless cultures, providing a delightful moment of indulgence and a social connection.',\n",
       " 'whether sipped as a morning ritual to kickstart the day or savored during leisurely breaks, its energizing effects and distinct flavors cater to a diverse array of preferences.',\n",
       " 'beyond its stimulating qualities, coffee has also cultivated a sense of community, often serving as a gathering point for friends, colleagues, and strangers alike.',\n",
       " 'its versatility, from the classic black brew to the myriad of modern concoctions, continues to captivate and inspire coffee enthusiasts, making it a cherished companion in our daily lives.']"
      ]
     },
     "execution_count": 191,
     "metadata": {},
     "output_type": "execute_result"
    }
   ],
   "source": [
    "# sentences = text.split('.')\n",
    "sentences= nltk.sent_tokenize(lower_text)\n",
    "sentences"
   ]
  },
  {
   "cell_type": "markdown",
   "id": "f46f092f",
   "metadata": {},
   "source": [
    "#### Word tokenization"
   ]
  },
  {
   "cell_type": "code",
   "execution_count": 192,
   "id": "b3a1b937",
   "metadata": {},
   "outputs": [
    {
     "data": {
      "text/plain": [
       "['coffee',\n",
       " 'is',\n",
       " 'a',\n",
       " 'beloved',\n",
       " 'beverage',\n",
       " 'enjoyed',\n",
       " 'worldwide',\n",
       " 'for',\n",
       " 'its',\n",
       " 'rich',\n",
       " 'aroma',\n",
       " ',',\n",
       " 'comforting',\n",
       " 'warmth',\n",
       " ',',\n",
       " 'and',\n",
       " 'invigorating',\n",
       " 'taste',\n",
       " '.',\n",
       " 'derived',\n",
       " 'from',\n",
       " 'the',\n",
       " 'roasted',\n",
       " 'seeds',\n",
       " 'of',\n",
       " 'the',\n",
       " 'coffea',\n",
       " 'plant',\n",
       " ',',\n",
       " 'coffee',\n",
       " 'has',\n",
       " 'become',\n",
       " 'an',\n",
       " 'integral',\n",
       " 'part',\n",
       " 'of',\n",
       " 'countless',\n",
       " 'cultures',\n",
       " ',',\n",
       " 'providing',\n",
       " 'a',\n",
       " 'delightful',\n",
       " 'moment',\n",
       " 'of',\n",
       " 'indulgence',\n",
       " 'and',\n",
       " 'a',\n",
       " 'social',\n",
       " 'connection',\n",
       " '.',\n",
       " 'whether',\n",
       " 'sipped',\n",
       " 'as',\n",
       " 'a',\n",
       " 'morning',\n",
       " 'ritual',\n",
       " 'to',\n",
       " 'kickstart',\n",
       " 'the',\n",
       " 'day',\n",
       " 'or',\n",
       " 'savored',\n",
       " 'during',\n",
       " 'leisurely',\n",
       " 'breaks',\n",
       " ',',\n",
       " 'its',\n",
       " 'energizing',\n",
       " 'effects',\n",
       " 'and',\n",
       " 'distinct',\n",
       " 'flavors',\n",
       " 'cater',\n",
       " 'to',\n",
       " 'a',\n",
       " 'diverse',\n",
       " 'array',\n",
       " 'of',\n",
       " 'preferences',\n",
       " '.',\n",
       " 'beyond',\n",
       " 'its',\n",
       " 'stimulating',\n",
       " 'qualities',\n",
       " ',',\n",
       " 'coffee',\n",
       " 'has',\n",
       " 'also',\n",
       " 'cultivated',\n",
       " 'a',\n",
       " 'sense',\n",
       " 'of',\n",
       " 'community',\n",
       " ',',\n",
       " 'often',\n",
       " 'serving',\n",
       " 'as',\n",
       " 'a',\n",
       " 'gathering',\n",
       " 'point',\n",
       " 'for',\n",
       " 'friends',\n",
       " ',',\n",
       " 'colleagues',\n",
       " ',',\n",
       " 'and',\n",
       " 'strangers',\n",
       " 'alike',\n",
       " '.',\n",
       " 'its',\n",
       " 'versatility',\n",
       " ',',\n",
       " 'from',\n",
       " 'the',\n",
       " 'classic',\n",
       " 'black',\n",
       " 'brew',\n",
       " 'to',\n",
       " 'the',\n",
       " 'myriad',\n",
       " 'of',\n",
       " 'modern',\n",
       " 'concoctions',\n",
       " ',',\n",
       " 'continues',\n",
       " 'to',\n",
       " 'captivate',\n",
       " 'and',\n",
       " 'inspire',\n",
       " 'coffee',\n",
       " 'enthusiasts',\n",
       " ',',\n",
       " 'making',\n",
       " 'it',\n",
       " 'a',\n",
       " 'cherished',\n",
       " 'companion',\n",
       " 'in',\n",
       " 'our',\n",
       " 'daily',\n",
       " 'lives',\n",
       " '.']"
      ]
     },
     "execution_count": 192,
     "metadata": {},
     "output_type": "execute_result"
    }
   ],
   "source": [
    "# words = text.split() --alternate method\n",
    "words = nltk.word_tokenize(lower_text)\n",
    "words"
   ]
  },
  {
   "cell_type": "markdown",
   "id": "0c03bac0",
   "metadata": {},
   "source": [
    "#### Removing the stop words "
   ]
  },
  {
   "cell_type": "code",
   "execution_count": 193,
   "id": "b3f98840",
   "metadata": {},
   "outputs": [
    {
     "name": "stdout",
     "output_type": "stream",
     "text": [
      "['i', 'me', 'my', 'myself', 'we', 'our', 'ours', 'ourselves', 'you', \"you're\", \"you've\", \"you'll\", \"you'd\", 'your', 'yours', 'yourself', 'yourselves', 'he', 'him', 'his', 'himself', 'she', \"she's\", 'her', 'hers', 'herself', 'it', \"it's\", 'its', 'itself', 'they', 'them', 'their', 'theirs', 'themselves', 'what', 'which', 'who', 'whom', 'this', 'that', \"that'll\", 'these', 'those', 'am', 'is', 'are', 'was', 'were', 'be', 'been', 'being', 'have', 'has', 'had', 'having', 'do', 'does', 'did', 'doing', 'a', 'an', 'the', 'and', 'but', 'if', 'or', 'because', 'as', 'until', 'while', 'of', 'at', 'by', 'for', 'with', 'about', 'against', 'between', 'into', 'through', 'during', 'before', 'after', 'above', 'below', 'to', 'from', 'up', 'down', 'in', 'out', 'on', 'off', 'over', 'under', 'again', 'further', 'then', 'once', 'here', 'there', 'when', 'where', 'why', 'how', 'all', 'any', 'both', 'each', 'few', 'more', 'most', 'other', 'some', 'such', 'no', 'nor', 'not', 'only', 'own', 'same', 'so', 'than', 'too', 'very', 's', 't', 'can', 'will', 'just', 'don', \"don't\", 'should', \"should've\", 'now', 'd', 'll', 'm', 'o', 're', 've', 'y', 'ain', 'aren', \"aren't\", 'couldn', \"couldn't\", 'didn', \"didn't\", 'doesn', \"doesn't\", 'hadn', \"hadn't\", 'hasn', \"hasn't\", 'haven', \"haven't\", 'isn', \"isn't\", 'ma', 'mightn', \"mightn't\", 'mustn', \"mustn't\", 'needn', \"needn't\", 'shan', \"shan't\", 'shouldn', \"shouldn't\", 'wasn', \"wasn't\", 'weren', \"weren't\", 'won', \"won't\", 'wouldn', \"wouldn't\"]\n"
     ]
    }
   ],
   "source": [
    "stop_words = stopwords.words('english')\n",
    "print(stop_words)"
   ]
  },
  {
   "cell_type": "code",
   "execution_count": 194,
   "id": "b02d611b",
   "metadata": {},
   "outputs": [],
   "source": [
    "words = [word for word in words if word not in stop_words]\n",
    "new_text = \" \".join(words)"
   ]
  },
  {
   "cell_type": "code",
   "execution_count": 195,
   "id": "aadc202b",
   "metadata": {},
   "outputs": [
    {
     "data": {
      "text/plain": [
       "'coffee beloved beverage enjoyed worldwide rich aroma , comforting warmth , invigorating taste . derived roasted seeds coffea plant , coffee become integral part countless cultures , providing delightful moment indulgence social connection . whether sipped morning ritual kickstart day savored leisurely breaks , energizing effects distinct flavors cater diverse array preferences . beyond stimulating qualities , coffee also cultivated sense community , often serving gathering point friends , colleagues , strangers alike . versatility , classic black brew myriad modern concoctions , continues captivate inspire coffee enthusiasts , making cherished companion daily lives .'"
      ]
     },
     "execution_count": 195,
     "metadata": {},
     "output_type": "execute_result"
    }
   ],
   "source": [
    "new_text"
   ]
  },
  {
   "cell_type": "markdown",
   "id": "cbe6212f",
   "metadata": {},
   "source": [
    "#### Removing punctuation"
   ]
  },
  {
   "cell_type": "code",
   "execution_count": 196,
   "id": "20b88faa",
   "metadata": {},
   "outputs": [],
   "source": [
    "# words"
   ]
  },
  {
   "cell_type": "code",
   "execution_count": 197,
   "id": "dac29181",
   "metadata": {},
   "outputs": [
    {
     "data": {
      "text/plain": [
       "['coffee',\n",
       " 'beloved',\n",
       " 'beverage',\n",
       " 'enjoyed',\n",
       " 'worldwide',\n",
       " 'rich',\n",
       " 'aroma',\n",
       " 'comforting',\n",
       " 'warmth',\n",
       " 'invigorating',\n",
       " 'taste',\n",
       " 'derived',\n",
       " 'roasted',\n",
       " 'seeds',\n",
       " 'coffea',\n",
       " 'plant',\n",
       " 'coffee',\n",
       " 'become',\n",
       " 'integral',\n",
       " 'part',\n",
       " 'countless',\n",
       " 'cultures',\n",
       " 'providing',\n",
       " 'delightful',\n",
       " 'moment',\n",
       " 'indulgence',\n",
       " 'social',\n",
       " 'connection',\n",
       " 'whether',\n",
       " 'sipped',\n",
       " 'morning',\n",
       " 'ritual',\n",
       " 'kickstart',\n",
       " 'day',\n",
       " 'savored',\n",
       " 'leisurely',\n",
       " 'breaks',\n",
       " 'energizing',\n",
       " 'effects',\n",
       " 'distinct',\n",
       " 'flavors',\n",
       " 'cater',\n",
       " 'diverse',\n",
       " 'array',\n",
       " 'preferences',\n",
       " 'beyond',\n",
       " 'stimulating',\n",
       " 'qualities',\n",
       " 'coffee',\n",
       " 'also',\n",
       " 'cultivated',\n",
       " 'sense',\n",
       " 'community',\n",
       " 'often',\n",
       " 'serving',\n",
       " 'gathering',\n",
       " 'point',\n",
       " 'friends',\n",
       " 'colleagues',\n",
       " 'strangers',\n",
       " 'alike',\n",
       " 'versatility',\n",
       " 'classic',\n",
       " 'black',\n",
       " 'brew',\n",
       " 'myriad',\n",
       " 'modern',\n",
       " 'concoctions',\n",
       " 'continues',\n",
       " 'captivate',\n",
       " 'inspire',\n",
       " 'coffee',\n",
       " 'enthusiasts',\n",
       " 'making',\n",
       " 'cherished',\n",
       " 'companion',\n",
       " 'daily',\n",
       " 'lives']"
      ]
     },
     "execution_count": 197,
     "metadata": {},
     "output_type": "execute_result"
    }
   ],
   "source": [
    "punctuations = [',','.','!']\n",
    "words = [word for word in words if word not in punctuations]\n",
    "words"
   ]
  },
  {
   "cell_type": "markdown",
   "id": "42d01148",
   "metadata": {},
   "source": [
    "#### Lemitization"
   ]
  },
  {
   "cell_type": "code",
   "execution_count": 198,
   "id": "1681a2b7",
   "metadata": {},
   "outputs": [
    {
     "data": {
      "text/plain": [
       "[('worldwide', 'ADJ'),\n",
       " ('beverage', 'NOUN'),\n",
       " ('invigorating', 'VERB'),\n",
       " ('derived', 'VERB'),\n",
       " ('cater', 'NOUN'),\n",
       " ('beloved', 'VERB'),\n",
       " ('providing', 'VERB'),\n",
       " ('alike', 'ADV'),\n",
       " ('classic', 'ADJ'),\n",
       " ('making', 'VERB'),\n",
       " ('energizing', 'VERB'),\n",
       " ('myriad', 'ADJ'),\n",
       " ('seeds', 'NOUN'),\n",
       " ('part', 'NOUN'),\n",
       " ('savored', 'VERB'),\n",
       " ('distinct', 'ADJ'),\n",
       " ('social', 'ADJ'),\n",
       " ('modern', 'ADJ'),\n",
       " ('plant', 'NOUN'),\n",
       " ('diverse', 'NOUN'),\n",
       " ('captivate', 'VERB'),\n",
       " ('kickstart', 'NOUN'),\n",
       " ('flavors', 'NOUN'),\n",
       " ('become', 'VERB'),\n",
       " ('black', 'ADJ'),\n",
       " ('gathering', 'NOUN'),\n",
       " ('lives', 'NOUN'),\n",
       " ('day', 'NOUN'),\n",
       " ('aroma', 'ADP'),\n",
       " ('taste', 'NOUN'),\n",
       " ('also', 'ADV'),\n",
       " ('effects', 'NOUN'),\n",
       " ('companion', 'NOUN'),\n",
       " ('friends', 'NOUN'),\n",
       " ('comforting', 'VERB'),\n",
       " ('cultivated', 'ADJ'),\n",
       " ('moment', 'NOUN'),\n",
       " ('serving', 'VERB'),\n",
       " ('beyond', 'ADP'),\n",
       " ('point', 'NOUN'),\n",
       " ('whether', 'ADP'),\n",
       " ('cultures', 'NOUN'),\n",
       " ('inspire', 'VERB'),\n",
       " ('cherished', 'VERB'),\n",
       " ('colleagues', 'NOUN'),\n",
       " ('morning', 'NOUN'),\n",
       " ('daily', 'ADJ'),\n",
       " ('versatility', 'NOUN'),\n",
       " ('strangers', 'NOUN'),\n",
       " ('countless', 'VERB'),\n",
       " ('coffee', 'NOUN'),\n",
       " ('leisurely', 'ADV'),\n",
       " ('array', 'ADJ'),\n",
       " ('sense', 'NOUN'),\n",
       " ('concoctions', 'NOUN'),\n",
       " ('sipped', 'VERB'),\n",
       " ('indulgence', 'NOUN'),\n",
       " ('coffea', 'NOUN'),\n",
       " ('connection', 'NOUN'),\n",
       " ('community', 'NOUN'),\n",
       " ('continues', 'VERB'),\n",
       " ('warmth', 'ADJ'),\n",
       " ('qualities', 'NOUN'),\n",
       " ('delightful', 'VERB'),\n",
       " ('roasted', 'VERB'),\n",
       " ('stimulating', 'ADJ'),\n",
       " ('integral', 'ADJ'),\n",
       " ('enjoyed', 'VERB'),\n",
       " ('breaks', 'NOUN'),\n",
       " ('ritual', 'ADJ'),\n",
       " ('often', 'ADV'),\n",
       " ('brew', 'ADJ'),\n",
       " ('preferences', 'NOUN'),\n",
       " ('rich', 'ADJ'),\n",
       " ('enthusiasts', 'NOUN')]"
      ]
     },
     "execution_count": 198,
     "metadata": {},
     "output_type": "execute_result"
    }
   ],
   "source": [
    "lemmed_words = pos_tag(list(set(words)), tagset='universal', lang='eng')\n",
    "lemmed_words"
   ]
  },
  {
   "cell_type": "markdown",
   "id": "0608640f",
   "metadata": {},
   "source": [
    "lemmitization takes longer to execute PoS needs to be found"
   ]
  },
  {
   "cell_type": "markdown",
   "id": "7b837699",
   "metadata": {},
   "source": [
    "#### Stemming"
   ]
  },
  {
   "cell_type": "code",
   "execution_count": 199,
   "id": "9e1adfa8",
   "metadata": {},
   "outputs": [],
   "source": [
    "# Improve upon this --> if verb/adjective stem it else let the word be "
   ]
  },
  {
   "cell_type": "code",
   "execution_count": 200,
   "id": "429941f1",
   "metadata": {},
   "outputs": [],
   "source": [
    "# stemmer = PorterStemmer()\n",
    "# new_text = \"\"\n",
    "# for i in lemmed_words:\n",
    "#     if i[1]=='ADJ' or i[1]=='VERB':\n",
    "#         new_text += stemmer.stem(i[0]) + ' '\n",
    "#     else:\n",
    "#         new_text += i[0] + ' '\n",
    "# new_text"
   ]
  },
  {
   "cell_type": "code",
   "execution_count": 201,
   "id": "c5a04d74",
   "metadata": {},
   "outputs": [
    {
     "data": {
      "text/plain": [
       "'coffe belov beverag enjoy worldwid rich aroma comfort warmth invigor tast deriv roast seed coffea plant coffe becom integr part countless cultur provid delight moment indulg social connect whether sip morn ritual kickstart day savor leisur break energ effect distinct flavor cater divers array prefer beyond stimul qualiti coffe also cultiv sens commun often serv gather point friend colleagu stranger alik versatil classic black brew myriad modern concoct continu captiv inspir coffe enthusiast make cherish companion daili live'"
      ]
     },
     "execution_count": 201,
     "metadata": {},
     "output_type": "execute_result"
    }
   ],
   "source": [
    "stemmer1 = PorterStemmer()\n",
    "stemmed1_words = [stemmer1.stem(word) for word in words]\n",
    "new_text = \" \".join(stemmed1_words)\n",
    "new_text\n",
    "# stemmed1_words"
   ]
  },
  {
   "cell_type": "code",
   "execution_count": 202,
   "id": "7fc6e36d",
   "metadata": {},
   "outputs": [
    {
     "data": {
      "text/plain": [
       "'coffe belov beverag enjoy worldwid rich aroma comfort warmth invigor tast deriv roast seed coffea plant coffe becom integr part countless cultur provid delight moment indulg social connect whether sip morn ritual kickstart day savor leisur break energ effect distinct flavor cater divers array prefer beyond stimul qualiti coffe also cultiv sens communiti often serv gather point friend colleagu stranger alik versatil classic black brew myriad modern concoct continu captiv inspir coffe enthusiast make cherish companion daili live'"
      ]
     },
     "execution_count": 202,
     "metadata": {},
     "output_type": "execute_result"
    }
   ],
   "source": [
    "stemmer2 = SnowballStemmer(language='english')\n",
    "stemmed2_words = [stemmer2.stem(word) for word in words]\n",
    "new_text = \" \".join(stemmed2_words)\n",
    "new_text\n",
    "# stemmed2_words"
   ]
  },
  {
   "cell_type": "markdown",
   "id": "a1154fa0",
   "metadata": {},
   "source": [
    "#### Word - Frequency counter "
   ]
  },
  {
   "cell_type": "code",
   "execution_count": 203,
   "id": "121d2456",
   "metadata": {},
   "outputs": [
    {
     "data": {
      "text/plain": [
       "{'coffee': 4,\n",
       " 'beloved': 1,\n",
       " 'beverage': 1,\n",
       " 'enjoyed': 1,\n",
       " 'worldwide': 1,\n",
       " 'rich': 1,\n",
       " 'aroma': 1,\n",
       " 'comforting': 1,\n",
       " 'warmth': 1,\n",
       " 'invigorating': 1,\n",
       " 'taste': 1,\n",
       " 'derived': 1,\n",
       " 'roasted': 1,\n",
       " 'seeds': 1,\n",
       " 'coffea': 1,\n",
       " 'plant': 1,\n",
       " 'become': 1,\n",
       " 'integral': 1,\n",
       " 'part': 1,\n",
       " 'countless': 1,\n",
       " 'cultures': 1,\n",
       " 'providing': 1,\n",
       " 'delightful': 1,\n",
       " 'moment': 1,\n",
       " 'indulgence': 1,\n",
       " 'social': 1,\n",
       " 'connection': 1,\n",
       " 'whether': 1,\n",
       " 'sipped': 1,\n",
       " 'morning': 1,\n",
       " 'ritual': 1,\n",
       " 'kickstart': 1,\n",
       " 'day': 1,\n",
       " 'savored': 1,\n",
       " 'leisurely': 1,\n",
       " 'breaks': 1,\n",
       " 'energizing': 1,\n",
       " 'effects': 1,\n",
       " 'distinct': 1,\n",
       " 'flavors': 1,\n",
       " 'cater': 1,\n",
       " 'diverse': 1,\n",
       " 'array': 1,\n",
       " 'preferences': 1,\n",
       " 'beyond': 1,\n",
       " 'stimulating': 1,\n",
       " 'qualities': 1,\n",
       " 'also': 1,\n",
       " 'cultivated': 1,\n",
       " 'sense': 1,\n",
       " 'community': 1,\n",
       " 'often': 1,\n",
       " 'serving': 1,\n",
       " 'gathering': 1,\n",
       " 'point': 1,\n",
       " 'friends': 1,\n",
       " 'colleagues': 1,\n",
       " 'strangers': 1,\n",
       " 'alike': 1,\n",
       " 'versatility': 1,\n",
       " 'classic': 1,\n",
       " 'black': 1,\n",
       " 'brew': 1,\n",
       " 'myriad': 1,\n",
       " 'modern': 1,\n",
       " 'concoctions': 1,\n",
       " 'continues': 1,\n",
       " 'captivate': 1,\n",
       " 'inspire': 1,\n",
       " 'enthusiasts': 1,\n",
       " 'making': 1,\n",
       " 'cherished': 1,\n",
       " 'companion': 1,\n",
       " 'daily': 1,\n",
       " 'lives': 1}"
      ]
     },
     "execution_count": 203,
     "metadata": {},
     "output_type": "execute_result"
    }
   ],
   "source": [
    "word_freq = dict()\n",
    "for i  in words:\n",
    "    if i in word_freq.keys():\n",
    "        word_freq[i] += 1\n",
    "    else:\n",
    "        word_freq[i] = 1\n",
    "word_freq"
   ]
  },
  {
   "cell_type": "markdown",
   "id": "091ace3e",
   "metadata": {},
   "source": [
    "We have learnt the basic text preprocessing operations in nlp"
   ]
  }
 ],
 "metadata": {
  "kernelspec": {
   "display_name": "Python 3",
   "language": "python",
   "name": "python3"
  },
  "language_info": {
   "codemirror_mode": {
    "name": "ipython",
    "version": 3
   },
   "file_extension": ".py",
   "mimetype": "text/x-python",
   "name": "python",
   "nbconvert_exporter": "python",
   "pygments_lexer": "ipython3",
   "version": "3.8.11"
  }
 },
 "nbformat": 4,
 "nbformat_minor": 5
}
